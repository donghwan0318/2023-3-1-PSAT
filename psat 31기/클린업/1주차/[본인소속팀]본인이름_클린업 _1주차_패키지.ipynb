{
 "cells": [
  {
   "cell_type": "markdown",
   "id": "fdf9b57c",
   "metadata": {},
   "source": [
    "# [본인소속팀]본인이름_클린업_1주차_패키지"
   ]
  },
  {
   "cell_type": "code",
   "execution_count": 3,
   "id": "edc8bd63",
   "metadata": {},
   "outputs": [],
   "source": [
    "import pandas as pd\n",
    "import numpy as np\n",
    "import matplotlib as plt\n",
    "import seaborn as sns\n",
    "import statsmodels"
   ]
  },
  {
   "cell_type": "markdown",
   "id": "910afff8",
   "metadata": {},
   "source": [
    "## Chapter 1 : Data Preprocessing & EDA\n",
    "### 문제 1. R과 Python에서 각각 데이터를 불러온 뒤, 데이터의 구조를 파악하세요."
   ]
  },
  {
   "cell_type": "code",
   "execution_count": null,
   "id": "565844a8",
   "metadata": {},
   "outputs": [],
   "source": []
  },
  {
   "cell_type": "markdown",
   "id": "bb295db0",
   "metadata": {},
   "source": []
  },
  {
   "cell_type": "markdown",
   "id": "c5ce1f46",
   "metadata": {},
   "source": [
    "### 문제2. 데이터에서 각 변수별로 unique한 값이 몇 개씩 존재하는지 파악해주세요."
   ]
  },
  {
   "cell_type": "code",
   "execution_count": null,
   "id": "969c5a96",
   "metadata": {},
   "outputs": [],
   "source": []
  },
  {
   "cell_type": "markdown",
   "id": "fe555776",
   "metadata": {},
   "source": []
  },
  {
   "cell_type": "markdown",
   "id": "5b9512e6",
   "metadata": {},
   "source": [
    "### 문제3. 문제 1과 문제 2에서 얻어낸 정보들을 바탕으로, 데이터에서 각 변수들이 범주형 변수인지 수치형 변수인지 판단해보고, 그 이유에 대해서 간략하게 서술해주세요.\n"
   ]
  },
  {
   "cell_type": "code",
   "execution_count": null,
   "id": "e4c5bfe0",
   "metadata": {},
   "outputs": [],
   "source": []
  },
  {
   "cell_type": "markdown",
   "id": "cbf9a6bf",
   "metadata": {},
   "source": []
  },
  {
   "cell_type": "markdown",
   "id": "0e457223",
   "metadata": {},
   "source": [
    "### 문제4.  데이터 내에 결측치가 있는지 간단히 파악해보세요. "
   ]
  },
  {
   "cell_type": "code",
   "execution_count": null,
   "id": "3a0a4e86",
   "metadata": {},
   "outputs": [],
   "source": []
  },
  {
   "cell_type": "markdown",
   "id": "165d39bb",
   "metadata": {},
   "source": []
  },
  {
   "cell_type": "markdown",
   "id": "217b1c3a",
   "metadata": {},
   "source": [
    "### 문제5. 데이터에 있는 ‘age’ 변수를 바탕으로 ‘age_group’이라는 범주형 파생변수를 생성해주세요"
   ]
  },
  {
   "cell_type": "code",
   "execution_count": null,
   "id": "128b12db",
   "metadata": {},
   "outputs": [],
   "source": []
  },
  {
   "cell_type": "markdown",
   "id": "518ad40e",
   "metadata": {},
   "source": []
  },
  {
   "cell_type": "markdown",
   "id": "d2efa93a",
   "metadata": {},
   "source": [
    "### 문제6. 데이터에서 수치형 변수들만을 사용하여, 수치형 변수들 간의 상관관계를 다음과 같은 상관관계 Plot을 통해 확인해주세요. 그리고 그 결과에 대해서 간단히 해석해주세요."
   ]
  },
  {
   "cell_type": "code",
   "execution_count": null,
   "id": "381895f2",
   "metadata": {},
   "outputs": [],
   "source": []
  },
  {
   "cell_type": "markdown",
   "id": "84ef8998",
   "metadata": {},
   "source": []
  },
  {
   "cell_type": "markdown",
   "id": "fe5b73a4",
   "metadata": {},
   "source": [
    "### 문제7. 흡연 여부(smoker)에 따른 요금(charges)의 분포를 각각 비흡연자(smoker==no), 흡연자(smoker==yes)로 나누어서 다음과 시각화해주세요. 그 후, 그려진 plot을 통해 알 수 있는 점들을 간략하게 적어주세요."
   ]
  },
  {
   "cell_type": "code",
   "execution_count": null,
   "id": "091bbeb1",
   "metadata": {},
   "outputs": [],
   "source": []
  },
  {
   "cell_type": "markdown",
   "id": "2e3efc79",
   "metadata": {},
   "source": []
  },
  {
   "cell_type": "markdown",
   "id": "aed97b34",
   "metadata": {},
   "source": [
    "### 문제8. 나이 그룹(age_group)에 따른 평균 요금(charge)의 차이를 확인하기 위해 박스 플롯을 그려 다음과 같이 시각화해주세요. 그 후, 그림을 통해 확인할 수 있는 점을 간략하게 적어주세요."
   ]
  },
  {
   "cell_type": "code",
   "execution_count": null,
   "id": "ac225abf",
   "metadata": {},
   "outputs": [],
   "source": []
  },
  {
   "cell_type": "markdown",
   "id": "fa42e9b2",
   "metadata": {},
   "source": []
  },
  {
   "cell_type": "markdown",
   "id": "b2f42903",
   "metadata": {},
   "source": [
    "## Chapter 2 : ANOVA(ANalysis Of Variance, 분산분석)\n",
    "### 문제1. ANOVA가 어떤 모델인지 조사해본 후, ANOVA가 어떤 모델인지에 대해서 간단히 서술해주세요."
   ]
  },
  {
   "cell_type": "markdown",
   "id": "5b137f7e",
   "metadata": {},
   "source": []
  },
  {
   "cell_type": "markdown",
   "id": "37c33827",
   "metadata": {},
   "source": [
    "### 문제2. ANOVA를 사용하여 나이 그룹(age_group) 간의 평균 요금(charges) 차이가 있는지를 검정해보고, 이를 ANOVA표를 통해 검정 결과를 해석하세요."
   ]
  },
  {
   "cell_type": "code",
   "execution_count": null,
   "id": "d4cd050b",
   "metadata": {},
   "outputs": [],
   "source": []
  },
  {
   "cell_type": "markdown",
   "id": "1352ec71",
   "metadata": {},
   "source": []
  },
  {
   "cell_type": "markdown",
   "id": "f55a7de8",
   "metadata": {},
   "source": [
    "### 문제3. ANOVA를 사용하여 나이 그룹(age_group) 간의 평균 BMI 값에 차이가 있는지를 검정해보고, 이를 ANOVA표를 통해 검정 결과를 해석하세요."
   ]
  },
  {
   "cell_type": "code",
   "execution_count": null,
   "id": "78567f98",
   "metadata": {},
   "outputs": [],
   "source": []
  },
  {
   "cell_type": "markdown",
   "id": "4af60194",
   "metadata": {},
   "source": []
  },
  {
   "cell_type": "markdown",
   "id": "d162d2dd",
   "metadata": {},
   "source": [
    "### 문제4. ANOVA를 사용하여 지역(region) 간의 평균 나이(age)의 차이가 있는지를 검정해보고, 이를 ANOVA표를 통해 검정 결과를 해석하세요."
   ]
  },
  {
   "cell_type": "code",
   "execution_count": null,
   "id": "35cd7eff",
   "metadata": {},
   "outputs": [],
   "source": []
  },
  {
   "cell_type": "markdown",
   "id": "0de3b53c",
   "metadata": {},
   "source": []
  }
 ],
 "metadata": {
  "kernelspec": {
   "display_name": "Python 3 (ipykernel)",
   "language": "python",
   "name": "python3"
  },
  "language_info": {
   "codemirror_mode": {
    "name": "ipython",
    "version": 3
   },
   "file_extension": ".py",
   "mimetype": "text/x-python",
   "name": "python",
   "nbconvert_exporter": "python",
   "pygments_lexer": "ipython3",
   "version": "3.9.7"
  }
 },
 "nbformat": 4,
 "nbformat_minor": 5
}
